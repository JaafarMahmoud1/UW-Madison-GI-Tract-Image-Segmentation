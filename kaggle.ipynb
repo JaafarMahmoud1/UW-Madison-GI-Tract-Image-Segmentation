{
 "cells": [
  {
   "cell_type": "markdown",
   "metadata": {},
   "source": [
    "### This should be run on the Kaggle platform to submit an entry"
   ]
  },
  {
   "cell_type": "code",
   "execution_count": 4,
   "metadata": {},
   "outputs": [
    {
     "name": "stdout",
     "output_type": "stream",
     "text": [
      "Running inference...\n"
     ]
    },
    {
     "ename": "UnboundLocalError",
     "evalue": "local variable 'df' referenced before assignment",
     "output_type": "error",
     "traceback": [
      "\u001b[0;31m---------------------------------------------------------------------------\u001b[0m",
      "\u001b[0;31mUnboundLocalError\u001b[0m                         Traceback (most recent call last)",
      "Input \u001b[0;32mIn [4]\u001b[0m, in \u001b[0;36m<cell line: 46>\u001b[0;34m()\u001b[0m\n\u001b[1;32m     43\u001b[0m test_thresh \u001b[38;5;241m=\u001b[39m \u001b[38;5;241m0.5\u001b[39m\n\u001b[1;32m     45\u001b[0m model_files \u001b[38;5;241m=\u001b[39m \u001b[38;5;28msorted\u001b[39m(glob(\u001b[38;5;124mf\u001b[39m\u001b[38;5;124m'\u001b[39m\u001b[38;5;132;01m{\u001b[39;00mmodel_dir\u001b[38;5;132;01m}\u001b[39;00m\u001b[38;5;124m/model*.pth\u001b[39m\u001b[38;5;124m'\u001b[39m))\n\u001b[0;32m---> 46\u001b[0m \u001b[43mrun\u001b[49m\u001b[43m(\u001b[49m\u001b[43minput_dir\u001b[49m\u001b[43m,\u001b[49m\u001b[43m \u001b[49m\u001b[43mmodel_files\u001b[49m\u001b[43m,\u001b[49m\u001b[43m \u001b[49m\u001b[43mtest_thresh\u001b[49m\u001b[43m)\u001b[49m\n",
      "File \u001b[0;32m~/Jaafar/dev/uw-madison/luminide/example-gi-tract/inference.py:150\u001b[0m, in \u001b[0;36mrun\u001b[0;34m(input_dir, model_files, thresh)\u001b[0m\n\u001b[1;32m    148\u001b[0m     confs\u001b[38;5;241m.\u001b[39mappend(conf)\n\u001b[1;32m    149\u001b[0m     loaders\u001b[38;5;241m.\u001b[39mappend(loader)\n\u001b[0;32m--> 150\u001b[0m img_files \u001b[38;5;241m=\u001b[39m \u001b[43mdf\u001b[49m[\u001b[38;5;124m'\u001b[39m\u001b[38;5;124mimg_files\u001b[39m\u001b[38;5;124m'\u001b[39m]\n\u001b[1;32m    151\u001b[0m \u001b[38;5;66;03m# average predictions from multiple models\u001b[39;00m\n\u001b[1;32m    152\u001b[0m ids, classes, masks \u001b[38;5;241m=\u001b[39m test(confs, loaders, models, img_files, class_names, thresh)\n",
      "\u001b[0;31mUnboundLocalError\u001b[0m: local variable 'df' referenced before assignment"
     ]
    }
   ],
   "source": [
    "import os\n",
    "import sys\n",
    "import requests\n",
    "from glob import glob\n",
    "\n",
    "# if not os.path.exists('../input/wheels3'):\n",
    "#     notebook_url = 'https://www.kaggle.com/luminide/wheels3'\n",
    "#     print(f'Run this on Kaggle after adding the notebook output of {notebook_url} as Data')\n",
    "#     sys.exit()\n",
    "\n",
    "# if not os.path.exists('../input/kagglecode1'):\n",
    "#     dataset_url = 'https://www.kaggle.com/<kaggle_username>/kagglecode1'\n",
    "#     print(f'Your dataset at {dataset_url} should be added as Data')\n",
    "#     sys.exit()\n",
    "\n",
    "# def internet_enabled():\n",
    "#     try:\n",
    "#         requests.get('https://kaggle.com', timeout=1)\n",
    "#         return True\n",
    "#     except:\n",
    "#         return False\n",
    "\n",
    "# network access is not allowed in code competitions\n",
    "# if internet_enabled():\n",
    "#     print('Turn off Internet connection on this Kaggle notebook and retry')\n",
    "#     sys.exit()\n",
    "    \n",
    "# this is to install packages on kaggle without using an internet connection\n",
    "# !pip install -q --no-index --find-links ../input/wheels3 ../input/wheels3/segmentation_models_pytorch-0.2.1-py3-none-any.whl\n",
    "\n",
    "sys.path.append('/home/server3090/Jaafar/dev/uw-madison/luminide/example-gi-tract')\n",
    "from inference import run\n",
    "\n",
    "train_csv_paths = glob('/home/server3090/Jaafar/dev/uw-madison/luminide/input/train.csv')\n",
    "if len(train_csv_paths) == 0:\n",
    "    print('Could not find dataset with train.csv')\n",
    "    sys.exit()\n",
    "    \n",
    "input_dir = os.path.dirname(train_csv_paths[0])\n",
    "model_dir = '/home/server3090/Jaafar/dev/uw-madison/luminide/example-gi-tract'\n",
    "\n",
    "print('Running inference...')\n",
    "test_thresh = 0.5\n",
    "\n",
    "model_files = sorted(glob(f'{model_dir}/model*.pth'))\n",
    "run(input_dir, model_files, test_thresh)"
   ]
  },
  {
   "cell_type": "code",
   "execution_count": null,
   "metadata": {},
   "outputs": [],
   "source": []
  }
 ],
 "metadata": {
  "kernelspec": {
   "display_name": "IMC",
   "language": "python",
   "name": "imc"
  },
  "language_info": {
   "codemirror_mode": {
    "name": "ipython",
    "version": 3
   },
   "file_extension": ".py",
   "mimetype": "text/x-python",
   "name": "python",
   "nbconvert_exporter": "python",
   "pygments_lexer": "ipython3",
   "version": "3.9.12"
  }
 },
 "nbformat": 4,
 "nbformat_minor": 4
}
